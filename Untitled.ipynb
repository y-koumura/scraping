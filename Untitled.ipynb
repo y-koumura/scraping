{
 "cells": [
  {
   "cell_type": "code",
   "execution_count": 2,
   "metadata": {},
   "outputs": [],
   "source": [
    "import requests\n",
    "from bs4 import BeautifulSoup"
   ]
  },
  {
   "cell_type": "code",
   "execution_count": 3,
   "metadata": {},
   "outputs": [],
   "source": [
    "url = \"http://www.wesleynet.com/jthailand/japancompany.php?list=A\"\n",
    "url =\"http://www.wesleynet.com/jthailand/japancompany.php?pageNum_company=1&list=A\"\n",
    "url =\"http://www.wesleynet.com/jthailand/japancompany.php?pageNum_company=2&list=A\"\n",
    "url =\"http://www.wesleynet.com/jthailand/japancompany.php?pageNum_company=3&list=A\"\n",
    "url =\"http://www.wesleynet.com/jthailand/japancompany.php?pageNum_company=4&list=A\"\n",
    "page = requests.get(url)\n",
    "soup = BeautifulSoup(page.content, 'html.parser')\n",
    "tb = soup.find_all('class=\"results secondary\"')"
   ]
  },
  {
   "cell_type": "code",
   "execution_count": 4,
   "metadata": {},
   "outputs": [
    {
     "data": {
      "text/plain": [
       "[]"
      ]
     },
     "execution_count": 4,
     "metadata": {},
     "output_type": "execute_result"
    }
   ],
   "source": [
    "tb"
   ]
  },
  {
   "cell_type": "code",
   "execution_count": 5,
   "metadata": {},
   "outputs": [
    {
     "ename": "NameError",
     "evalue": "name 'response' is not defined",
     "output_type": "error",
     "traceback": [
      "\u001b[1;31m---------------------------------------------------------------------------\u001b[0m",
      "\u001b[1;31mNameError\u001b[0m                                 Traceback (most recent call last)",
      "\u001b[1;32m<ipython-input-5-aeafde77b027>\u001b[0m in \u001b[0;36m<module>\u001b[1;34m\u001b[0m\n\u001b[1;32m----> 1\u001b[1;33m \u001b[0mprint\u001b[0m\u001b[1;33m(\u001b[0m\u001b[0mresponse\u001b[0m\u001b[1;33m.\u001b[0m\u001b[0mtext\u001b[0m\u001b[1;33m[\u001b[0m\u001b[1;33m:\u001b[0m\u001b[1;36m500\u001b[0m\u001b[1;33m]\u001b[0m\u001b[1;33m)\u001b[0m\u001b[1;33m\u001b[0m\u001b[1;33m\u001b[0m\u001b[0m\n\u001b[0m",
      "\u001b[1;31mNameError\u001b[0m: name 'response' is not defined"
     ]
    }
   ],
   "source": [
    "print(response.text[:500])"
   ]
  },
  {
   "cell_type": "code",
   "execution_count": 6,
   "metadata": {},
   "outputs": [],
   "source": [
    "url =\"http://www.wesleynet.com/jthailand/japancompany.php?pageNum_company=1&list=A\""
   ]
  },
  {
   "cell_type": "code",
   "execution_count": 7,
   "metadata": {},
   "outputs": [
    {
     "ename": "NameError",
     "evalue": "name 'response' is not defined",
     "output_type": "error",
     "traceback": [
      "\u001b[1;31m---------------------------------------------------------------------------\u001b[0m",
      "\u001b[1;31mNameError\u001b[0m                                 Traceback (most recent call last)",
      "\u001b[1;32m<ipython-input-7-aeafde77b027>\u001b[0m in \u001b[0;36m<module>\u001b[1;34m\u001b[0m\n\u001b[1;32m----> 1\u001b[1;33m \u001b[0mprint\u001b[0m\u001b[1;33m(\u001b[0m\u001b[0mresponse\u001b[0m\u001b[1;33m.\u001b[0m\u001b[0mtext\u001b[0m\u001b[1;33m[\u001b[0m\u001b[1;33m:\u001b[0m\u001b[1;36m500\u001b[0m\u001b[1;33m]\u001b[0m\u001b[1;33m)\u001b[0m\u001b[1;33m\u001b[0m\u001b[1;33m\u001b[0m\u001b[0m\n\u001b[0m",
      "\u001b[1;31mNameError\u001b[0m: name 'response' is not defined"
     ]
    }
   ],
   "source": [
    "print(response.text[:500])"
   ]
  },
  {
   "cell_type": "code",
   "execution_count": 8,
   "metadata": {},
   "outputs": [],
   "source": [
    "page = requests.get(url)"
   ]
  },
  {
   "cell_type": "code",
   "execution_count": 9,
   "metadata": {},
   "outputs": [],
   "source": [
    "soup = BeautifulSoup(page.content, 'html.parser')\n",
    "tb = soup.find_all('class=\"results secondary\"')"
   ]
  },
  {
   "cell_type": "code",
   "execution_count": 10,
   "metadata": {},
   "outputs": [
    {
     "data": {
      "text/plain": [
       "[]"
      ]
     },
     "execution_count": 10,
     "metadata": {},
     "output_type": "execute_result"
    }
   ],
   "source": [
    "tb"
   ]
  },
  {
   "cell_type": "code",
   "execution_count": 11,
   "metadata": {},
   "outputs": [
    {
     "name": "stdout",
     "output_type": "stream",
     "text": [
      "﻿<!DOCTYPE html>\n",
      "<html>\n",
      "<head>\n",
      "<!-- Global site tag (gtag.js) - Google Analytics -->\n",
      "<script async src=\"https://www.googletagmanager.com/gtag/js?id=UA-53190092-1\"></script>\n",
      "<script>\n",
      "  window.dataLayer = window.dataLayer || [];\n",
      "  function gtag(){dataLayer.push(arguments);}\n",
      "  gtag('js', new Date());\n",
      "\n",
      "  gtag('config', 'UA-53190092-1');\n",
      "</script>\n",
      "\n",
      "<!-- Google Tag Manager -->\n",
      "<script>(function(w,d,s,l,i){w[l]=w[l]||[];w[l].push({'gtm.start':\n",
      "new Date().getTime(),event:'gtm.js'});var f=d.getElementsBy\n"
     ]
    }
   ],
   "source": [
    "from requests import get\n",
    "url =\"http://www.wesleynet.com/jthailand/japancompany.php?pageNum_company=1&list=A\"\n",
    "response = get(url)\n",
    "print(response.text[:500])"
   ]
  },
  {
   "cell_type": "code",
   "execution_count": 12,
   "metadata": {},
   "outputs": [],
   "source": [
    "import requests\n",
    "from bs4 import BeautifulSoup"
   ]
  },
  {
   "cell_type": "code",
   "execution_count": 13,
   "metadata": {},
   "outputs": [
    {
     "ename": "NameError",
     "evalue": "name 'r' is not defined",
     "output_type": "error",
     "traceback": [
      "\u001b[1;31m---------------------------------------------------------------------------\u001b[0m",
      "\u001b[1;31mNameError\u001b[0m                                 Traceback (most recent call last)",
      "\u001b[1;32m<ipython-input-13-9be890e2f525>\u001b[0m in \u001b[0;36m<module>\u001b[1;34m\u001b[0m\n\u001b[1;32m----> 1\u001b[1;33m \u001b[0msoup\u001b[0m \u001b[1;33m=\u001b[0m \u001b[0mBeautifulSoup\u001b[0m\u001b[1;33m(\u001b[0m\u001b[0mr\u001b[0m\u001b[1;33m.\u001b[0m\u001b[0mcontent\u001b[0m\u001b[1;33m,\u001b[0m \u001b[1;34m'html5lib'\u001b[0m\u001b[1;33m)\u001b[0m\u001b[1;33m\u001b[0m\u001b[1;33m\u001b[0m\u001b[0m\n\u001b[0m\u001b[0;32m      2\u001b[0m \u001b[0mprint\u001b[0m\u001b[1;33m(\u001b[0m\u001b[0msoup\u001b[0m\u001b[1;33m.\u001b[0m\u001b[0mprettify\u001b[0m\u001b[1;33m(\u001b[0m\u001b[1;33m)\u001b[0m\u001b[1;33m)\u001b[0m\u001b[1;33m\u001b[0m\u001b[1;33m\u001b[0m\u001b[0m\n",
      "\u001b[1;31mNameError\u001b[0m: name 'r' is not defined"
     ]
    }
   ],
   "source": [
    "soup = BeautifulSoup(r.content, 'html5lib')\n",
    "print(soup.prettify())"
   ]
  },
  {
   "cell_type": "code",
   "execution_count": 14,
   "metadata": {},
   "outputs": [],
   "source": [
    "page = requests.get(url)\n",
    "soup = BeautifulSoup(page.content, 'html.parser')\n",
    "tb = soup.find_all('class=\"results secondary\"')"
   ]
  },
  {
   "cell_type": "code",
   "execution_count": 15,
   "metadata": {},
   "outputs": [
    {
     "data": {
      "text/plain": [
       "[]"
      ]
     },
     "execution_count": 15,
     "metadata": {},
     "output_type": "execute_result"
    }
   ],
   "source": [
    "tb"
   ]
  },
  {
   "cell_type": "code",
   "execution_count": 16,
   "metadata": {},
   "outputs": [
    {
     "name": "stdout",
     "output_type": "stream",
     "text": [
      "[]\n"
     ]
    }
   ],
   "source": [
    "print(tb)"
   ]
  },
  {
   "cell_type": "code",
   "execution_count": 17,
   "metadata": {},
   "outputs": [
    {
     "ename": "SyntaxError",
     "evalue": "invalid syntax (<ipython-input-17-85dfe47938fb>, line 1)",
     "output_type": "error",
     "traceback": [
      "\u001b[1;36m  File \u001b[1;32m\"<ipython-input-17-85dfe47938fb>\"\u001b[1;36m, line \u001b[1;32m1\u001b[0m\n\u001b[1;33m    table = soup.find('div',class = {\"results secondary\"})\u001b[0m\n\u001b[1;37m                                ^\u001b[0m\n\u001b[1;31mSyntaxError\u001b[0m\u001b[1;31m:\u001b[0m invalid syntax\n"
     ]
    }
   ],
   "source": [
    "table = soup.find('div',class = {\"results secondary\"})"
   ]
  },
  {
   "cell_type": "code",
   "execution_count": 18,
   "metadata": {},
   "outputs": [],
   "source": [
    "tb=(soup.find_all(class_=\"results secondary\"))"
   ]
  },
  {
   "cell_type": "code",
   "execution_count": 19,
   "metadata": {},
   "outputs": [
    {
     "data": {
      "text/plain": [
       "[<div class=\"results secondary\">\n",
       " <div class=\"Title\"><strong>日系企業情報</strong></div>\n",
       " <div class=\"item\">\n",
       " <div class=\"alpha\"><table border=\"0\" cellpadding=\"4\" cellspacing=\"4\" width=\"100%\">\n",
       " <tr>\n",
       " <td><a href=\"gotodetail2.php?Co_Code=2872\">AILOP (THAILAND) LTD</a></td>\n",
       " </tr>\n",
       " </table>\n",
       " </div>\n",
       " <div class=\"alpha\"><table border=\"0\" cellpadding=\"4\" cellspacing=\"4\" width=\"100%\">\n",
       " <tr>\n",
       " <td><a href=\"gotodetail2.php?Co_Code=2873\">AIM ELECTRIC (THAILAND) CO., LTD</a></td>\n",
       " </tr>\n",
       " </table>\n",
       " </div>\n",
       " <div class=\"alpha\"><table border=\"0\" cellpadding=\"4\" cellspacing=\"4\" width=\"100%\">\n",
       " <tr>\n",
       " <td><a href=\"gotodetail2.php?Co_Code=2048\">AIOI INSURANCE CO LTD</a></td>\n",
       " </tr>\n",
       " </table>\n",
       " </div>\n",
       " <div class=\"alpha\"><table border=\"0\" cellpadding=\"4\" cellspacing=\"4\" width=\"100%\">\n",
       " <tr>\n",
       " <td><a href=\"gotodetail2.php?Co_Code=16\">AIR PRODUCTS INDUSTRY CO., LTD</a></td>\n",
       " </tr>\n",
       " </table>\n",
       " </div>\n",
       " <div class=\"alpha\"><table border=\"0\" cellpadding=\"4\" cellspacing=\"4\" width=\"100%\">\n",
       " <tr>\n",
       " <td><a href=\"gotodetail2.php?Co_Code=2874\">AIR SYSTEMS (THAILAND) CO., LTD</a></td>\n",
       " </tr>\n",
       " </table>\n",
       " </div>\n",
       " <div class=\"alpha\"><table border=\"0\" cellpadding=\"4\" cellspacing=\"4\" width=\"100%\">\n",
       " <tr>\n",
       " <td><a href=\"gotodetail2.php?Co_Code=17\">AIR-CON PARTS ENGINEERING (THAILAND) CO LTD</a></td>\n",
       " </tr>\n",
       " </table>\n",
       " </div>\n",
       " <div class=\"alpha\"><table border=\"0\" cellpadding=\"4\" cellspacing=\"4\" width=\"100%\">\n",
       " <tr>\n",
       " <td><a href=\"gotodetail2.php?Co_Code=2875\">AISAN CORPORATION ASIA PACIFIC LTD</a></td>\n",
       " </tr>\n",
       " </table>\n",
       " </div>\n",
       " <div class=\"alpha\"><table border=\"0\" cellpadding=\"4\" cellspacing=\"4\" width=\"100%\">\n",
       " <tr>\n",
       " <td><a href=\"gotodetail2.php?Co_Code=2876\">AISIN ASIA (THAILAND) CO., LTD</a></td>\n",
       " </tr>\n",
       " </table>\n",
       " </div>\n",
       " <div class=\"alpha\"><table border=\"0\" cellpadding=\"4\" cellspacing=\"4\" width=\"100%\">\n",
       " <tr>\n",
       " <td><a href=\"gotodetail2.php?Co_Code=2345\">AISIN TAKAOKA ASIA CO., LTD.</a></td>\n",
       " </tr>\n",
       " </table>\n",
       " </div>\n",
       " <div class=\"alpha\"><table border=\"0\" cellpadding=\"4\" cellspacing=\"4\" width=\"100%\">\n",
       " <tr>\n",
       " <td><a href=\"gotodetail2.php?Co_Code=2877\">AISIN TAKAOKA FOUNDRY BANGPAKONG CO., LTD</a></td>\n",
       " </tr>\n",
       " </table>\n",
       " </div>\n",
       " <div class=\"alpha\"><table border=\"0\" cellpadding=\"4\" cellspacing=\"4\" width=\"100%\">\n",
       " <tr>\n",
       " <td><a href=\"gotodetail2.php?Co_Code=517\">AISIN-AI (THAILAND) CO., LTD.</a></td>\n",
       " </tr>\n",
       " </table>\n",
       " </div>\n",
       " <div class=\"alpha\"><table border=\"0\" cellpadding=\"4\" cellspacing=\"4\" width=\"100%\">\n",
       " <tr>\n",
       " <td><a href=\"gotodetail2.php?Co_Code=2879\">AIZEN SB (THAILAND) CO., LTD</a></td>\n",
       " </tr>\n",
       " </table>\n",
       " </div>\n",
       " <div class=\"alpha\"><table border=\"0\" cellpadding=\"4\" cellspacing=\"4\" width=\"100%\">\n",
       " <tr>\n",
       " <td><a href=\"gotodetail2.php?Co_Code=2584\">AJINOMOTO BETAGRO FROZEN FOODS (THAILAND) CO., LTD.</a></td>\n",
       " </tr>\n",
       " </table>\n",
       " </div>\n",
       " <div class=\"alpha\"><table border=\"0\" cellpadding=\"4\" cellspacing=\"4\" width=\"100%\">\n",
       " <tr>\n",
       " <td><a href=\"gotodetail2.php?Co_Code=2707\">AJINOMOTO BETAGRO SPECIALTY FOODS CO., LTD.</a></td>\n",
       " </tr>\n",
       " </table>\n",
       " </div>\n",
       " <div class=\"alpha\"><table border=\"0\" cellpadding=\"4\" cellspacing=\"4\" width=\"100%\">\n",
       " <tr>\n",
       " <td><a href=\"gotodetail2.php?Co_Code=21\">AJINOMOTO CO., (THAILAND) LTD</a></td>\n",
       " </tr>\n",
       " </table>\n",
       " </div>\n",
       " <div class=\"alpha\"><table border=\"0\" cellpadding=\"4\" cellspacing=\"4\" width=\"100%\">\n",
       " <tr>\n",
       " <td><a href=\"gotodetail2.php?Co_Code=2880\">AJINOMOTO ENGINEERING 2001 (THAILAND) CO., LTD</a></td>\n",
       " </tr>\n",
       " </table>\n",
       " </div>\n",
       " <div class=\"alpha\"><table border=\"0\" cellpadding=\"4\" cellspacing=\"4\" width=\"100%\">\n",
       " <tr>\n",
       " <td><a href=\"gotodetail2.php?Co_Code=22\">AJINOMOTO FROZEN FOODS (THAILAND) CO., LTD</a></td>\n",
       " </tr>\n",
       " </table>\n",
       " </div>\n",
       " <div class=\"alpha\"><table border=\"0\" cellpadding=\"4\" cellspacing=\"4\" width=\"100%\">\n",
       " <tr>\n",
       " <td><a href=\"gotodetail2.php?Co_Code=847\">AJITRADE (THAILAND) CO., LTD</a></td>\n",
       " </tr>\n",
       " </table>\n",
       " </div>\n",
       " <div class=\"alpha\"><table border=\"0\" cellpadding=\"4\" cellspacing=\"4\" width=\"100%\">\n",
       " <tr>\n",
       " <td><a href=\"gotodetail2.php?Co_Code=2881\">AKEBONO PRECISION (THAILAND) CO., LTD</a></td>\n",
       " </tr>\n",
       " </table>\n",
       " </div>\n",
       " <div class=\"alpha\"><table border=\"0\" cellpadding=\"4\" cellspacing=\"4\" width=\"100%\">\n",
       " <tr>\n",
       " <td><a href=\"gotodetail2.php?Co_Code=2882\">AKIYAMA (THAILAND) CO., LTD</a></td>\n",
       " </tr>\n",
       " </table>\n",
       " </div>\n",
       " <div class=\"alpha\"><table border=\"0\" cellpadding=\"4\" cellspacing=\"4\" width=\"100%\">\n",
       " <tr>\n",
       " <td><a href=\"gotodetail2.php?Co_Code=1290\">AKTIO (THAILAND) CO., LTD</a></td>\n",
       " </tr>\n",
       " </table>\n",
       " </div>\n",
       " <div class=\"alpha\"><table border=\"0\" cellpadding=\"4\" cellspacing=\"4\" width=\"100%\">\n",
       " <tr>\n",
       " <td><a href=\"gotodetail2.php?Co_Code=2883\">ALCOM PRECISION (THAILAND) CO., LTD</a></td>\n",
       " </tr>\n",
       " </table>\n",
       " </div>\n",
       " <div class=\"alpha\"><table border=\"0\" cellpadding=\"4\" cellspacing=\"4\" width=\"100%\">\n",
       " <tr>\n",
       " <td><a href=\"gotodetail2.php?Co_Code=2049\">ALCONIX (THAILAND) LTD</a></td>\n",
       " </tr>\n",
       " </table>\n",
       " </div>\n",
       " <div class=\"alpha\"><table border=\"0\" cellpadding=\"4\" cellspacing=\"4\" width=\"100%\">\n",
       " <tr>\n",
       " <td><a href=\"gotodetail2.php?Co_Code=2884\">ALINCO SCAFFOLDING (THAILAND) CO., LTD</a></td>\n",
       " </tr>\n",
       " </table>\n",
       " </div>\n",
       " <div class=\"alpha\"><table border=\"0\" cellpadding=\"4\" cellspacing=\"4\" width=\"100%\">\n",
       " <tr>\n",
       " <td><a href=\"gotodetail2.php?Co_Code=40\">ALL NIPPON AIRWAYS CO., LTD.</a></td>\n",
       " </tr>\n",
       " </table>\n",
       " </div>\n",
       " <div class=\"alpha\"><table border=\"0\" cellpadding=\"4\" cellspacing=\"4\" width=\"100%\">\n",
       " <tr>\n",
       " <td><a href=\"gotodetail2.php?Co_Code=2885\">ALLIED TELESIS (THAILAND) CO., LTD</a></td>\n",
       " </tr>\n",
       " </table>\n",
       " </div>\n",
       " <div class=\"alpha\"><table border=\"0\" cellpadding=\"4\" cellspacing=\"4\" width=\"100%\">\n",
       " <tr>\n",
       " <td><a href=\"gotodetail2.php?Co_Code=2886\">ALPHA D.I. (THAILAND) CO., LTD</a></td>\n",
       " </tr>\n",
       " </table>\n",
       " </div>\n",
       " <div class=\"alpha\"><table border=\"0\" cellpadding=\"4\" cellspacing=\"4\" width=\"100%\">\n",
       " <tr>\n",
       " <td><a href=\"gotodetail2.php?Co_Code=2887\">ALPHA HOUSING HARDWARE (THAILAND) CO., LTD</a></td>\n",
       " </tr>\n",
       " </table>\n",
       " </div>\n",
       " <div class=\"alpha\"><table border=\"0\" cellpadding=\"4\" cellspacing=\"4\" width=\"100%\">\n",
       " <tr>\n",
       " <td><a href=\"gotodetail2.php?Co_Code=2888\">ALPHA TOOL ASIA CO., LTD</a></td>\n",
       " </tr>\n",
       " </table>\n",
       " </div>\n",
       " <div class=\"alpha\"><table border=\"0\" cellpadding=\"4\" cellspacing=\"4\" width=\"100%\">\n",
       " <tr>\n",
       " <td><a href=\"gotodetail2.php?Co_Code=2889\">ALPHAX INTERNATIONAL TRADING (THAILAND) CO., LTD</a></td>\n",
       " </tr>\n",
       " </table>\n",
       " </div>\n",
       " <div class=\"alpha\"><table border=\"0\" cellpadding=\"4\" cellspacing=\"4\" width=\"100%\">\n",
       " <tr>\n",
       " <td><a href=\"gotodetail2.php?Co_Code=42\">ALPINE ELECTRONICS  OF ASIA PACIFIC CO., LTD.</a></td>\n",
       " </tr>\n",
       " </table>\n",
       " </div>\n",
       " <div class=\"alpha\"><table border=\"0\" cellpadding=\"4\" cellspacing=\"4\" width=\"100%\">\n",
       " <tr>\n",
       " <td><a href=\"gotodetail2.php?Co_Code=41\">ALPINE TECHNOLOGY MANUFACTURING (THAILAND) CO LTD</a></td>\n",
       " </tr>\n",
       " </table>\n",
       " </div>\n",
       " <div class=\"alpha\"><table border=\"0\" cellpadding=\"4\" cellspacing=\"4\" width=\"100%\">\n",
       " <tr>\n",
       " <td><a href=\"gotodetail2.php?Co_Code=2051\">ALPS TOOL (THAILAND) CO., LTD</a></td>\n",
       " </tr>\n",
       " </table>\n",
       " </div>\n",
       " <div class=\"alpha\"><table border=\"0\" cellpadding=\"4\" cellspacing=\"4\" width=\"100%\">\n",
       " <tr>\n",
       " <td><a href=\"gotodetail2.php?Co_Code=2634\">ALSOK THAI SECURITY SERVICES CO., LTD</a></td>\n",
       " </tr>\n",
       " </table>\n",
       " </div>\n",
       " <div class=\"alpha\"><table border=\"0\" cellpadding=\"4\" cellspacing=\"4\" width=\"100%\">\n",
       " <tr>\n",
       " <td><a href=\"gotodetail2.php?Co_Code=2890\">ALSYS (THAILAND) CO., LTD</a></td>\n",
       " </tr>\n",
       " </table>\n",
       " </div>\n",
       " <div class=\"alpha\"><table border=\"0\" cellpadding=\"4\" cellspacing=\"4\" width=\"100%\">\n",
       " <tr>\n",
       " <td><a href=\"gotodetail2.php?Co_Code=2050\">ALTECH ASIA PACIFIC CO., LTD</a></td>\n",
       " </tr>\n",
       " </table>\n",
       " </div>\n",
       " <div class=\"alpha\"><table border=\"0\" cellpadding=\"4\" cellspacing=\"4\" width=\"100%\">\n",
       " <tr>\n",
       " <td><a href=\"gotodetail2.php?Co_Code=2052\">ALUCON PUBLIC CO., LTD</a></td>\n",
       " </tr>\n",
       " </table>\n",
       " </div>\n",
       " <div class=\"alpha\"><table border=\"0\" cellpadding=\"4\" cellspacing=\"4\" width=\"100%\">\n",
       " <tr>\n",
       " <td><a href=\"gotodetail2.php?Co_Code=43\">AMADA ASIA PACIFIC CO., LTD.<br/>(Regional Head Quarter)<br/>AMADA (THAILAND) CO., LTD</a></td>\n",
       " </tr>\n",
       " </table>\n",
       " </div>\n",
       " <div class=\"alpha\"><table border=\"0\" cellpadding=\"4\" cellspacing=\"4\" width=\"100%\">\n",
       " <tr>\n",
       " <td><a href=\"gotodetail2.php?Co_Code=2891\">AMADA MACHINE TOOLS (THAILAND) CO., LTD</a></td>\n",
       " </tr>\n",
       " </table>\n",
       " </div>\n",
       " <div class=\"alpha\"><table border=\"0\" cellpadding=\"4\" cellspacing=\"4\" width=\"100%\">\n",
       " <tr>\n",
       " <td><a href=\"gotodetail2.php?Co_Code=44\">AMAGASAKI PIPE (THAILAND) CO., LTD</a></td>\n",
       " </tr>\n",
       " </table>\n",
       " </div>\n",
       " <div class=\"clear\"></div>\n",
       " </div>\n",
       " </div>]"
      ]
     },
     "execution_count": 19,
     "metadata": {},
     "output_type": "execute_result"
    }
   ],
   "source": [
    "tb"
   ]
  },
  {
   "cell_type": "code",
   "execution_count": 20,
   "metadata": {},
   "outputs": [],
   "source": [
    "url =\"http://www.wesleynet.com/jthailand/japancompany.php?pageNum_company=1&list=A\""
   ]
  },
  {
   "cell_type": "code",
   "execution_count": 21,
   "metadata": {},
   "outputs": [
    {
     "name": "stdout",
     "output_type": "stream",
     "text": [
      "﻿<!DOCTYPE html>\n",
      "<html>\n",
      "<head>\n",
      "<!-- Global site tag (gtag.js) - Google Analytics -->\n",
      "<script async src=\"https://www.googletagmanager.com/gtag/js?id=UA-53190092-1\"></script>\n",
      "<script>\n",
      "  window.dataLayer = window.dataLayer || [];\n",
      "  function gtag(){dataLayer.push(arguments);}\n",
      "  gtag('js', new Date());\n",
      "\n",
      "  gtag('config', 'UA-53190092-1');\n",
      "</script>\n",
      "\n",
      "<!-- Google Tag Manager -->\n",
      "<script>(function(w,d,s,l,i){w[l]=w[l]||[];w[l].push({'gtm.start':\n",
      "new Date().getTime(),event:'gtm.js'});var f=d.getElementsBy\n"
     ]
    }
   ],
   "source": [
    "response = get(url)\n",
    "print(response.text[:500])"
   ]
  },
  {
   "cell_type": "code",
   "execution_count": 24,
   "metadata": {},
   "outputs": [],
   "source": [
    "tb=(soup.find_all(class_=\"results secondary\"))"
   ]
  },
  {
   "cell_type": "code",
   "execution_count": null,
   "metadata": {},
   "outputs": [],
   "source": []
  },
  {
   "cell_type": "code",
   "execution_count": 23,
   "metadata": {},
   "outputs": [
    {
     "ename": "SyntaxError",
     "evalue": "invalid syntax (<ipython-input-23-85dfe47938fb>, line 1)",
     "output_type": "error",
     "traceback": [
      "\u001b[1;36m  File \u001b[1;32m\"<ipython-input-23-85dfe47938fb>\"\u001b[1;36m, line \u001b[1;32m1\u001b[0m\n\u001b[1;33m    table = soup.find('div',class = {\"results secondary\"})\u001b[0m\n\u001b[1;37m                                ^\u001b[0m\n\u001b[1;31mSyntaxError\u001b[0m\u001b[1;31m:\u001b[0m invalid syntax\n"
     ]
    }
   ],
   "source": [
    "table = soup.find('div',class = {\"results secondary\"})"
   ]
  },
  {
   "cell_type": "code",
   "execution_count": 26,
   "metadata": {},
   "outputs": [
    {
     "ename": "NameError",
     "evalue": "name 'content' is not defined",
     "output_type": "error",
     "traceback": [
      "\u001b[1;31m---------------------------------------------------------------------------\u001b[0m",
      "\u001b[1;31mNameError\u001b[0m                                 Traceback (most recent call last)",
      "\u001b[1;32m<ipython-input-26-cd5d115aa581>\u001b[0m in \u001b[0;36m<module>\u001b[1;34m\u001b[0m\n\u001b[1;32m----> 1\u001b[1;33m \u001b[0msoup\u001b[0m \u001b[1;33m=\u001b[0m \u001b[0mBeautifulSoup\u001b[0m\u001b[1;33m(\u001b[0m\u001b[0mcontent\u001b[0m\u001b[1;33m,\u001b[0m \u001b[1;34m'html5lib'\u001b[0m\u001b[1;33m)\u001b[0m\u001b[1;33m\u001b[0m\u001b[1;33m\u001b[0m\u001b[0m\n\u001b[0m\u001b[0;32m      2\u001b[0m \u001b[0mprint\u001b[0m\u001b[1;33m(\u001b[0m\u001b[0msoup\u001b[0m\u001b[1;33m.\u001b[0m\u001b[0mprettify\u001b[0m\u001b[1;33m(\u001b[0m\u001b[1;33m)\u001b[0m\u001b[1;33m)\u001b[0m\u001b[1;33m\u001b[0m\u001b[1;33m\u001b[0m\u001b[0m\n",
      "\u001b[1;31mNameError\u001b[0m: name 'content' is not defined"
     ]
    }
   ],
   "source": [
    "soup = BeautifulSoup(r.content, 'html5lib')\n",
    "print(soup.prettify())"
   ]
  },
  {
   "cell_type": "code",
   "execution_count": 27,
   "metadata": {},
   "outputs": [],
   "source": [
    "tb=(soup.find_all(class_=\"results secondary\"))"
   ]
  },
  {
   "cell_type": "code",
   "execution_count": 28,
   "metadata": {},
   "outputs": [
    {
     "data": {
      "text/plain": [
       "[<div class=\"results secondary\">\n",
       " <div class=\"Title\"><strong>日系企業情報</strong></div>\n",
       " <div class=\"item\">\n",
       " <div class=\"alpha\"><table border=\"0\" cellpadding=\"4\" cellspacing=\"4\" width=\"100%\">\n",
       " <tr>\n",
       " <td><a href=\"gotodetail2.php?Co_Code=2872\">AILOP (THAILAND) LTD</a></td>\n",
       " </tr>\n",
       " </table>\n",
       " </div>\n",
       " <div class=\"alpha\"><table border=\"0\" cellpadding=\"4\" cellspacing=\"4\" width=\"100%\">\n",
       " <tr>\n",
       " <td><a href=\"gotodetail2.php?Co_Code=2873\">AIM ELECTRIC (THAILAND) CO., LTD</a></td>\n",
       " </tr>\n",
       " </table>\n",
       " </div>\n",
       " <div class=\"alpha\"><table border=\"0\" cellpadding=\"4\" cellspacing=\"4\" width=\"100%\">\n",
       " <tr>\n",
       " <td><a href=\"gotodetail2.php?Co_Code=2048\">AIOI INSURANCE CO LTD</a></td>\n",
       " </tr>\n",
       " </table>\n",
       " </div>\n",
       " <div class=\"alpha\"><table border=\"0\" cellpadding=\"4\" cellspacing=\"4\" width=\"100%\">\n",
       " <tr>\n",
       " <td><a href=\"gotodetail2.php?Co_Code=16\">AIR PRODUCTS INDUSTRY CO., LTD</a></td>\n",
       " </tr>\n",
       " </table>\n",
       " </div>\n",
       " <div class=\"alpha\"><table border=\"0\" cellpadding=\"4\" cellspacing=\"4\" width=\"100%\">\n",
       " <tr>\n",
       " <td><a href=\"gotodetail2.php?Co_Code=2874\">AIR SYSTEMS (THAILAND) CO., LTD</a></td>\n",
       " </tr>\n",
       " </table>\n",
       " </div>\n",
       " <div class=\"alpha\"><table border=\"0\" cellpadding=\"4\" cellspacing=\"4\" width=\"100%\">\n",
       " <tr>\n",
       " <td><a href=\"gotodetail2.php?Co_Code=17\">AIR-CON PARTS ENGINEERING (THAILAND) CO LTD</a></td>\n",
       " </tr>\n",
       " </table>\n",
       " </div>\n",
       " <div class=\"alpha\"><table border=\"0\" cellpadding=\"4\" cellspacing=\"4\" width=\"100%\">\n",
       " <tr>\n",
       " <td><a href=\"gotodetail2.php?Co_Code=2875\">AISAN CORPORATION ASIA PACIFIC LTD</a></td>\n",
       " </tr>\n",
       " </table>\n",
       " </div>\n",
       " <div class=\"alpha\"><table border=\"0\" cellpadding=\"4\" cellspacing=\"4\" width=\"100%\">\n",
       " <tr>\n",
       " <td><a href=\"gotodetail2.php?Co_Code=2876\">AISIN ASIA (THAILAND) CO., LTD</a></td>\n",
       " </tr>\n",
       " </table>\n",
       " </div>\n",
       " <div class=\"alpha\"><table border=\"0\" cellpadding=\"4\" cellspacing=\"4\" width=\"100%\">\n",
       " <tr>\n",
       " <td><a href=\"gotodetail2.php?Co_Code=2345\">AISIN TAKAOKA ASIA CO., LTD.</a></td>\n",
       " </tr>\n",
       " </table>\n",
       " </div>\n",
       " <div class=\"alpha\"><table border=\"0\" cellpadding=\"4\" cellspacing=\"4\" width=\"100%\">\n",
       " <tr>\n",
       " <td><a href=\"gotodetail2.php?Co_Code=2877\">AISIN TAKAOKA FOUNDRY BANGPAKONG CO., LTD</a></td>\n",
       " </tr>\n",
       " </table>\n",
       " </div>\n",
       " <div class=\"alpha\"><table border=\"0\" cellpadding=\"4\" cellspacing=\"4\" width=\"100%\">\n",
       " <tr>\n",
       " <td><a href=\"gotodetail2.php?Co_Code=517\">AISIN-AI (THAILAND) CO., LTD.</a></td>\n",
       " </tr>\n",
       " </table>\n",
       " </div>\n",
       " <div class=\"alpha\"><table border=\"0\" cellpadding=\"4\" cellspacing=\"4\" width=\"100%\">\n",
       " <tr>\n",
       " <td><a href=\"gotodetail2.php?Co_Code=2879\">AIZEN SB (THAILAND) CO., LTD</a></td>\n",
       " </tr>\n",
       " </table>\n",
       " </div>\n",
       " <div class=\"alpha\"><table border=\"0\" cellpadding=\"4\" cellspacing=\"4\" width=\"100%\">\n",
       " <tr>\n",
       " <td><a href=\"gotodetail2.php?Co_Code=2584\">AJINOMOTO BETAGRO FROZEN FOODS (THAILAND) CO., LTD.</a></td>\n",
       " </tr>\n",
       " </table>\n",
       " </div>\n",
       " <div class=\"alpha\"><table border=\"0\" cellpadding=\"4\" cellspacing=\"4\" width=\"100%\">\n",
       " <tr>\n",
       " <td><a href=\"gotodetail2.php?Co_Code=2707\">AJINOMOTO BETAGRO SPECIALTY FOODS CO., LTD.</a></td>\n",
       " </tr>\n",
       " </table>\n",
       " </div>\n",
       " <div class=\"alpha\"><table border=\"0\" cellpadding=\"4\" cellspacing=\"4\" width=\"100%\">\n",
       " <tr>\n",
       " <td><a href=\"gotodetail2.php?Co_Code=21\">AJINOMOTO CO., (THAILAND) LTD</a></td>\n",
       " </tr>\n",
       " </table>\n",
       " </div>\n",
       " <div class=\"alpha\"><table border=\"0\" cellpadding=\"4\" cellspacing=\"4\" width=\"100%\">\n",
       " <tr>\n",
       " <td><a href=\"gotodetail2.php?Co_Code=2880\">AJINOMOTO ENGINEERING 2001 (THAILAND) CO., LTD</a></td>\n",
       " </tr>\n",
       " </table>\n",
       " </div>\n",
       " <div class=\"alpha\"><table border=\"0\" cellpadding=\"4\" cellspacing=\"4\" width=\"100%\">\n",
       " <tr>\n",
       " <td><a href=\"gotodetail2.php?Co_Code=22\">AJINOMOTO FROZEN FOODS (THAILAND) CO., LTD</a></td>\n",
       " </tr>\n",
       " </table>\n",
       " </div>\n",
       " <div class=\"alpha\"><table border=\"0\" cellpadding=\"4\" cellspacing=\"4\" width=\"100%\">\n",
       " <tr>\n",
       " <td><a href=\"gotodetail2.php?Co_Code=847\">AJITRADE (THAILAND) CO., LTD</a></td>\n",
       " </tr>\n",
       " </table>\n",
       " </div>\n",
       " <div class=\"alpha\"><table border=\"0\" cellpadding=\"4\" cellspacing=\"4\" width=\"100%\">\n",
       " <tr>\n",
       " <td><a href=\"gotodetail2.php?Co_Code=2881\">AKEBONO PRECISION (THAILAND) CO., LTD</a></td>\n",
       " </tr>\n",
       " </table>\n",
       " </div>\n",
       " <div class=\"alpha\"><table border=\"0\" cellpadding=\"4\" cellspacing=\"4\" width=\"100%\">\n",
       " <tr>\n",
       " <td><a href=\"gotodetail2.php?Co_Code=2882\">AKIYAMA (THAILAND) CO., LTD</a></td>\n",
       " </tr>\n",
       " </table>\n",
       " </div>\n",
       " <div class=\"alpha\"><table border=\"0\" cellpadding=\"4\" cellspacing=\"4\" width=\"100%\">\n",
       " <tr>\n",
       " <td><a href=\"gotodetail2.php?Co_Code=1290\">AKTIO (THAILAND) CO., LTD</a></td>\n",
       " </tr>\n",
       " </table>\n",
       " </div>\n",
       " <div class=\"alpha\"><table border=\"0\" cellpadding=\"4\" cellspacing=\"4\" width=\"100%\">\n",
       " <tr>\n",
       " <td><a href=\"gotodetail2.php?Co_Code=2883\">ALCOM PRECISION (THAILAND) CO., LTD</a></td>\n",
       " </tr>\n",
       " </table>\n",
       " </div>\n",
       " <div class=\"alpha\"><table border=\"0\" cellpadding=\"4\" cellspacing=\"4\" width=\"100%\">\n",
       " <tr>\n",
       " <td><a href=\"gotodetail2.php?Co_Code=2049\">ALCONIX (THAILAND) LTD</a></td>\n",
       " </tr>\n",
       " </table>\n",
       " </div>\n",
       " <div class=\"alpha\"><table border=\"0\" cellpadding=\"4\" cellspacing=\"4\" width=\"100%\">\n",
       " <tr>\n",
       " <td><a href=\"gotodetail2.php?Co_Code=2884\">ALINCO SCAFFOLDING (THAILAND) CO., LTD</a></td>\n",
       " </tr>\n",
       " </table>\n",
       " </div>\n",
       " <div class=\"alpha\"><table border=\"0\" cellpadding=\"4\" cellspacing=\"4\" width=\"100%\">\n",
       " <tr>\n",
       " <td><a href=\"gotodetail2.php?Co_Code=40\">ALL NIPPON AIRWAYS CO., LTD.</a></td>\n",
       " </tr>\n",
       " </table>\n",
       " </div>\n",
       " <div class=\"alpha\"><table border=\"0\" cellpadding=\"4\" cellspacing=\"4\" width=\"100%\">\n",
       " <tr>\n",
       " <td><a href=\"gotodetail2.php?Co_Code=2885\">ALLIED TELESIS (THAILAND) CO., LTD</a></td>\n",
       " </tr>\n",
       " </table>\n",
       " </div>\n",
       " <div class=\"alpha\"><table border=\"0\" cellpadding=\"4\" cellspacing=\"4\" width=\"100%\">\n",
       " <tr>\n",
       " <td><a href=\"gotodetail2.php?Co_Code=2886\">ALPHA D.I. (THAILAND) CO., LTD</a></td>\n",
       " </tr>\n",
       " </table>\n",
       " </div>\n",
       " <div class=\"alpha\"><table border=\"0\" cellpadding=\"4\" cellspacing=\"4\" width=\"100%\">\n",
       " <tr>\n",
       " <td><a href=\"gotodetail2.php?Co_Code=2887\">ALPHA HOUSING HARDWARE (THAILAND) CO., LTD</a></td>\n",
       " </tr>\n",
       " </table>\n",
       " </div>\n",
       " <div class=\"alpha\"><table border=\"0\" cellpadding=\"4\" cellspacing=\"4\" width=\"100%\">\n",
       " <tr>\n",
       " <td><a href=\"gotodetail2.php?Co_Code=2888\">ALPHA TOOL ASIA CO., LTD</a></td>\n",
       " </tr>\n",
       " </table>\n",
       " </div>\n",
       " <div class=\"alpha\"><table border=\"0\" cellpadding=\"4\" cellspacing=\"4\" width=\"100%\">\n",
       " <tr>\n",
       " <td><a href=\"gotodetail2.php?Co_Code=2889\">ALPHAX INTERNATIONAL TRADING (THAILAND) CO., LTD</a></td>\n",
       " </tr>\n",
       " </table>\n",
       " </div>\n",
       " <div class=\"alpha\"><table border=\"0\" cellpadding=\"4\" cellspacing=\"4\" width=\"100%\">\n",
       " <tr>\n",
       " <td><a href=\"gotodetail2.php?Co_Code=42\">ALPINE ELECTRONICS  OF ASIA PACIFIC CO., LTD.</a></td>\n",
       " </tr>\n",
       " </table>\n",
       " </div>\n",
       " <div class=\"alpha\"><table border=\"0\" cellpadding=\"4\" cellspacing=\"4\" width=\"100%\">\n",
       " <tr>\n",
       " <td><a href=\"gotodetail2.php?Co_Code=41\">ALPINE TECHNOLOGY MANUFACTURING (THAILAND) CO LTD</a></td>\n",
       " </tr>\n",
       " </table>\n",
       " </div>\n",
       " <div class=\"alpha\"><table border=\"0\" cellpadding=\"4\" cellspacing=\"4\" width=\"100%\">\n",
       " <tr>\n",
       " <td><a href=\"gotodetail2.php?Co_Code=2051\">ALPS TOOL (THAILAND) CO., LTD</a></td>\n",
       " </tr>\n",
       " </table>\n",
       " </div>\n",
       " <div class=\"alpha\"><table border=\"0\" cellpadding=\"4\" cellspacing=\"4\" width=\"100%\">\n",
       " <tr>\n",
       " <td><a href=\"gotodetail2.php?Co_Code=2634\">ALSOK THAI SECURITY SERVICES CO., LTD</a></td>\n",
       " </tr>\n",
       " </table>\n",
       " </div>\n",
       " <div class=\"alpha\"><table border=\"0\" cellpadding=\"4\" cellspacing=\"4\" width=\"100%\">\n",
       " <tr>\n",
       " <td><a href=\"gotodetail2.php?Co_Code=2890\">ALSYS (THAILAND) CO., LTD</a></td>\n",
       " </tr>\n",
       " </table>\n",
       " </div>\n",
       " <div class=\"alpha\"><table border=\"0\" cellpadding=\"4\" cellspacing=\"4\" width=\"100%\">\n",
       " <tr>\n",
       " <td><a href=\"gotodetail2.php?Co_Code=2050\">ALTECH ASIA PACIFIC CO., LTD</a></td>\n",
       " </tr>\n",
       " </table>\n",
       " </div>\n",
       " <div class=\"alpha\"><table border=\"0\" cellpadding=\"4\" cellspacing=\"4\" width=\"100%\">\n",
       " <tr>\n",
       " <td><a href=\"gotodetail2.php?Co_Code=2052\">ALUCON PUBLIC CO., LTD</a></td>\n",
       " </tr>\n",
       " </table>\n",
       " </div>\n",
       " <div class=\"alpha\"><table border=\"0\" cellpadding=\"4\" cellspacing=\"4\" width=\"100%\">\n",
       " <tr>\n",
       " <td><a href=\"gotodetail2.php?Co_Code=43\">AMADA ASIA PACIFIC CO., LTD.<br/>(Regional Head Quarter)<br/>AMADA (THAILAND) CO., LTD</a></td>\n",
       " </tr>\n",
       " </table>\n",
       " </div>\n",
       " <div class=\"alpha\"><table border=\"0\" cellpadding=\"4\" cellspacing=\"4\" width=\"100%\">\n",
       " <tr>\n",
       " <td><a href=\"gotodetail2.php?Co_Code=2891\">AMADA MACHINE TOOLS (THAILAND) CO., LTD</a></td>\n",
       " </tr>\n",
       " </table>\n",
       " </div>\n",
       " <div class=\"alpha\"><table border=\"0\" cellpadding=\"4\" cellspacing=\"4\" width=\"100%\">\n",
       " <tr>\n",
       " <td><a href=\"gotodetail2.php?Co_Code=44\">AMAGASAKI PIPE (THAILAND) CO., LTD</a></td>\n",
       " </tr>\n",
       " </table>\n",
       " </div>\n",
       " <div class=\"clear\"></div>\n",
       " </div>\n",
       " </div>]"
      ]
     },
     "execution_count": 28,
     "metadata": {},
     "output_type": "execute_result"
    }
   ],
   "source": [
    "tb"
   ]
  },
  {
   "cell_type": "code",
   "execution_count": 29,
   "metadata": {
    "scrolled": true
   },
   "outputs": [
    {
     "ename": "SyntaxError",
     "evalue": "positional argument follows keyword argument (<ipython-input-29-3ee59bbaab6e>, line 1)",
     "output_type": "error",
     "traceback": [
      "\u001b[1;36m  File \u001b[1;32m\"<ipython-input-29-3ee59bbaab6e>\"\u001b[1;36m, line \u001b[1;32m1\u001b[0m\n\u001b[1;33m    tb=(soup.find_all(class_=\"results secondary\",\"a href\"))\u001b[0m\n\u001b[1;37m                                                ^\u001b[0m\n\u001b[1;31mSyntaxError\u001b[0m\u001b[1;31m:\u001b[0m positional argument follows keyword argument\n"
     ]
    }
   ],
   "source": [
    "tb=(soup.find_all(class_=\"results secondary\",\"a href\"))"
   ]
  },
  {
   "cell_type": "code",
   "execution_count": 30,
   "metadata": {},
   "outputs": [],
   "source": [
    "table = soup.find(\"td\", attrs={\"class\":\"a href\"})"
   ]
  },
  {
   "cell_type": "code",
   "execution_count": 31,
   "metadata": {},
   "outputs": [],
   "source": [
    "table"
   ]
  },
  {
   "cell_type": "code",
   "execution_count": 32,
   "metadata": {},
   "outputs": [
    {
     "name": "stdout",
     "output_type": "stream",
     "text": [
      "None\n"
     ]
    }
   ],
   "source": [
    "print(table)"
   ]
  },
  {
   "cell_type": "code",
   "execution_count": null,
   "metadata": {},
   "outputs": [],
   "source": []
  },
  {
   "cell_type": "code",
   "execution_count": null,
   "metadata": {},
   "outputs": [],
   "source": []
  }
 ],
 "metadata": {
  "kernelspec": {
   "display_name": "Python 3",
   "language": "python",
   "name": "python3"
  },
  "language_info": {
   "codemirror_mode": {
    "name": "ipython",
    "version": 3
   },
   "file_extension": ".py",
   "mimetype": "text/x-python",
   "name": "python",
   "nbconvert_exporter": "python",
   "pygments_lexer": "ipython3",
   "version": "3.7.1"
  }
 },
 "nbformat": 4,
 "nbformat_minor": 2
}
